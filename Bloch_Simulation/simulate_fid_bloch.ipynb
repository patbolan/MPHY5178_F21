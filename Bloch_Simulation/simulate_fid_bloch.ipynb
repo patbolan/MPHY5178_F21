{
  "nbformat": 4,
  "nbformat_minor": 0,
  "metadata": {
    "colab": {
      "name": "simulate_fid_bloch.ipynb",
      "provenance": [],
      "collapsed_sections": [],
      "authorship_tag": "ABX9TyO6EPG0wT5G1N6GY90Mvpz7",
      "include_colab_link": true
    },
    "kernelspec": {
      "name": "python3",
      "display_name": "Python 3"
    }
  },
  "cells": [
    {
      "cell_type": "markdown",
      "metadata": {
        "id": "view-in-github",
        "colab_type": "text"
      },
      "source": [
        "<a href=\"https://colab.research.google.com/github/patbolan/MPHY5178_F21/blob/main/Bloch_Simulation/simulate_fid_bloch.ipynb\" target=\"_parent\"><img src=\"https://colab.research.google.com/assets/colab-badge.svg\" alt=\"Open In Colab\"/></a>"
      ]
    },
    {
      "cell_type": "markdown",
      "metadata": {
        "id": "q2pVIiKJYddb"
      },
      "source": [
        "## Bloch simulator\n",
        "Using a Runge-Kutta ODE solver, as in MPHY5178\n"
      ]
    },
    {
      "cell_type": "code",
      "metadata": {
        "id": "l8RU-TBFYUIt"
      },
      "source": [
        "import numpy as np\n",
        "import matplotlib.pyplot as plt"
      ],
      "execution_count": null,
      "outputs": []
    },
    {
      "cell_type": "code",
      "metadata": {
        "id": "q81JSBENe-8e"
      },
      "source": [
        "# Define Bloch derivatives dM/dt\n",
        "def dMdt_function(b1x, b1y, R1, R2, Omega, M):\n",
        "  dMdt = np.zeros([3], float)\n",
        "\n",
        "  dMdt[0] = (Omega * M[1]) - (b1y*M[2]) - (M[0]*R2)\n",
        "  dMdt[1] = (b1x*M[2]) - (Omega*M[0]) - (M[1]*R2)\n",
        "  dMdt[2] = (b1y*M[0]) - (b1x*M[1]) + ((1. - M[2]) *R1)\n",
        "\n",
        "  return dMdt"
      ],
      "execution_count": null,
      "outputs": []
    },
    {
      "cell_type": "code",
      "metadata": {
        "id": "dOueeigpeSr_"
      },
      "source": [
        "# Define bloch estimation using Runge-Kutta 4th order ODE solver\n",
        "# Good reference: https://ntrs.nasa.gov/archive/nasa/casi.ntrs.nasa.gov/19690021375.pdf\n",
        "def bloch_RK4(Minit, b1x, b1y, Omega, R1, R2, dT):\n",
        "  KK = np.zeros([4,3], float)\n",
        "\n",
        "  KK[0,:] = dT * dMdt_function(b1x, b1y, R1, R2, Omega, Minit)\n",
        "  KK[1,:] = dT * dMdt_function(b1x, b1y, R1, R2, Omega, Minit + KK[0,:]/2)\n",
        "  KK[2,:] = dT * dMdt_function(b1x, b1y, R1, R2, Omega, Minit + KK[1,:]/2)\n",
        "  KK[3,:] = dT * dMdt_function(b1x, b1y, R1, R2, Omega, Minit + KK[2,:])\n",
        "  \n",
        "  Mnext = Minit + (1./6.) * (KK[0,:] + 2. * KK[1,:] + 2. * KK[2,:] + KK[3,:])\n",
        "  return Mnext"
      ],
      "execution_count": null,
      "outputs": []
    },
    {
      "cell_type": "code",
      "metadata": {
        "id": "tJ7l0f5TZvID"
      },
      "source": [
        "pulse_duration = 0.0001 # seconds\n",
        "flip_angle = 90 # degrees\n",
        "dT = 0.000001 # Time resolution for simulation. Needs to be finer than pulse_duration\n",
        "timeaxis = np.linspace(0, 0.5, np.int(0.5/dT+1))\n",
        "Nt = timeaxis.shape[0]\n",
        "\n",
        "T1 = 1.0 # seconds\n",
        "T2 = 0.020 # seconds\n",
        "offset = 50 * 2. * np.pi # off-resonance, converted to rad/s\n",
        "\n",
        "b1_max = flip_angle/180. * 500.* (0.001 / pulse_duration) * 2. * np.pi\n",
        "b1y = timeaxis * 0\n",
        "b1y[timeaxis<pulse_duration] = -b1_max # nice, logical indexing just like Matlab!\n",
        "b1x = b1y * 0\n",
        "\n",
        "Mt = np.zeros([Nt,3], float) # M(t)\n",
        "Mt[0,:] = [0,0,1] # Initial value M(t) = M0 z\n",
        "\n",
        "# Step through all timepoints\n",
        "for idx in range(1, Nt):\n",
        "    Mt[idx,:] = bloch_RK4(Mt[idx-1,:], b1x[idx], b1y[idx], offset, 1/T1, 1/T2, dT)\n",
        "\n",
        "# Plot the results\n",
        "plt.plot(timeaxis, -b1y)\n",
        "plt.title('RF')\n",
        "plt.show()    \n",
        "    \n",
        "plt.plot(timeaxis, Mt[:,0])\n",
        "plt.title('Mx')\n",
        "plt.show()\n",
        "\n",
        "plt.plot(timeaxis, Mt[:,1])\n",
        "plt.title('My')\n",
        "plt.show()\n",
        "\n",
        "plt.plot(timeaxis, Mt[:,2])\n",
        "plt.title('Mz')\n",
        "plt.show()\n"
      ],
      "execution_count": null,
      "outputs": []
    },
    {
      "cell_type": "code",
      "metadata": {
        "id": "RhYQMNM0wzP1"
      },
      "source": [
        "# Extract the signal. \n",
        "s = Mt[:,0]+ 1j*Mt[:,1]\n",
        "\n",
        "# Only take the part after the pulse\n",
        "s = s[timeaxis>pulse_duration]\n",
        "t_fid = timeaxis[timeaxis>pulse_duration]\n",
        "\n",
        "# Before a FT we scale the first point of an FID by 1/2. This is a subtle \n",
        "# effect that is often ignored. (G Otting et al, JMR 66 p187 1986)\n",
        "s_temp = s\n",
        "s_temp[0] = s_temp[0] * 0.5\n",
        "spec = np.fft.fftshift(np.fft.fft(s_temp))\n",
        "\n",
        "# Calculate frequency axis\n",
        "SW = 1/dT\n",
        "Npoints = len(t_fid)\n",
        "dFreq = SW/(Npoints)\n",
        "freqax = np.arange(-SW/2, SW/2, dFreq) - dFreq/2\n",
        "plt.plot(freqax,np.real(spec), 'k')\n",
        "\n",
        "plt.plot(freqax,np.real(spec), 'k')\n",
        "plt.plot(freqax,np.imag(spec), 'b')\n",
        "plt.legend(['real', 'imag'])\n",
        "plt.xlim([-200, 200])\n",
        "plt.show()"
      ],
      "execution_count": null,
      "outputs": []
    }
  ]
}