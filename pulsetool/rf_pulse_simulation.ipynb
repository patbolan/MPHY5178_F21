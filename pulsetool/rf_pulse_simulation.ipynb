{
  "nbformat": 4,
  "nbformat_minor": 0,
  "metadata": {
    "colab": {
      "name": "rf_pulse_simulation.ipynb",
      "provenance": [],
      "collapsed_sections": []
    },
    "kernelspec": {
      "name": "python3",
      "display_name": "Python 3"
    }
  },
  "cells": [
    {
      "cell_type": "markdown",
      "metadata": {
        "id": "3M4_RNMN4gAn"
      },
      "source": [
        "This is a simple notebook to simulate the excitation profile of an RF pulse.\n",
        "\n",
        "\n",
        "\n"
      ]
    },
    {
      "cell_type": "code",
      "metadata": {
        "id": "cy8iHaCw5X5t"
      },
      "source": [
        "# First, some library imports\n",
        "import numpy as np\n",
        "import matplotlib.pyplot as plt\n",
        "import pandas as pd"
      ],
      "execution_count": 58,
      "outputs": []
    },
    {
      "cell_type": "code",
      "metadata": {
        "id": "jeicSoPO6Io7"
      },
      "source": [
        "# Define the block simulation functions \n",
        "def dM_dt_function(b1x, b1y, R1, R2, Omega, M):\n",
        "  dMdt = np.zeros([3]) # Initize the 3D vector\n",
        "\n",
        "  # The three components of dM/dt: \n",
        "  dMdt[0] = Omega * M[1] - (b1y * M[2]) - (M[0] * R2)\n",
        "  dMdt[1] = b1x * M[2] - (Omega * M[0]) - (M[1] * R2)\n",
        "  dMdt[2] = b1y * M[0] - (b1x * M[1] + ((1.0 - M[2]) * R1))\n",
        "\n",
        "  return dMdt\n",
        "\n",
        "def blochRK4(Minit, B1x, B1y, Omega, R1, R2, deltaT):\n",
        "\n",
        "  KK = np.zeros([4,3]) # 4 iterations, each holding a 3D vector [Mx, My, Mz]\n",
        "\n",
        "  KK[0,:] = deltaT * dM_dt_function(B1x, B1y, R1, R2, Omega, Minit)\n",
        "  KK[1,:] = deltaT * dM_dt_function(B1x, B1y, R1, R2, Omega, Minit + KK[0,:]/2)\n",
        "  KK[2,:] = deltaT * dM_dt_function(B1x, B1y, R1, R2, Omega, Minit + KK[1,:]/2)\n",
        "  KK[3,:] = deltaT * dM_dt_function(B1x, B1y, R1, R2, Omega, Minit + KK[2,:])\n",
        "\n",
        "  # Take weighted sum of all K values\n",
        "  Mnext = Minit + 1/6 * (KK[0,:] + 2*KK[1,:] + 2*KK[2,:] + KK[3,:] )\n",
        "\n",
        "  return Mnext\n",
        "\n",
        "# This calls blochRK4 for all timepoints in an RF pulse, and returns the \n",
        "# magnetization at the end of the RF pulse\n",
        "def blochRK4_loop(B1x, B1y, Tp, offset, R1, R2, Minit):\n",
        "  Npts = len(B1x)\n",
        "  deltaTp = Tp / Npts\n",
        "  Mnext = np.zeros([Npts,3])\n",
        "  Mnext[0,:] = Minit\n",
        "\n",
        "  for ndx in range(1,Npts):\n",
        "    Mnext[ndx,:] = blochRK4(Mnext[ndx-1,:], B1x[ndx], B1y[ndx], offset, R1, R2, deltaTp)\n",
        "\n",
        "  return Mnext[-1,:]"
      ],
      "execution_count": 59,
      "outputs": []
    },
    {
      "cell_type": "code",
      "metadata": {
        "id": "YinOo8st7xaY",
        "colab": {
          "base_uri": "https://localhost:8080/",
          "height": 298
        },
        "outputId": "385d6c6e-f30b-416d-98a6-3ba7dc2174dc"
      },
      "source": [
        "# Load up an RF pulse file\n",
        "# You can do this manually, by using the folder icon on the left <--\n",
        "# Or in code, like this:\n",
        "#    from google.colab import files\n",
        "#    uploaded = files.upload()\n",
        "\n",
        "# Either way, you'll have a file in the \"current\" directory. \n",
        "# Set the fname variable to that file name\n",
        "fname = 'sinc3_201.RF'\n",
        "\n",
        "# Load the file, using pandas. Convert to B1 mag, phase\n",
        "df = pd.read_csv(fname, sep=' ', header=None)\n",
        "b1_amp = df[1].to_numpy() / df[1].max() # Normalized B1 amplitude (actually gamma-B1)\n",
        "b1_phase = df[0].to_numpy() * np.pi / 180 # Convert to radians\n",
        "\n",
        "# Plot the shape\n",
        "plt.subplot(2,1,1)\n",
        "plt.plot(b1_amp)\n",
        "plt.title('gamma B1 amplitude')\n",
        "plt.ylabel('Normalized units')\n",
        "plt.subplot(2,1,2)\n",
        "plt.plot(b1_phase)\n",
        "plt.title('phase')\n",
        "plt.ylabel('Radians')\n",
        "plt.show\n",
        "\n"
      ],
      "execution_count": 60,
      "outputs": [
        {
          "output_type": "execute_result",
          "data": {
            "text/plain": [
              "<function matplotlib.pyplot.show>"
            ]
          },
          "metadata": {},
          "execution_count": 60
        },
        {
          "output_type": "display_data",
          "data": {
            "image/png": "[encoded data removed]",
            "text/plain": [
              "<Figure size 432x288 with 2 Axes>"
            ]
          },
          "metadata": {
            "needs_background": "light"
          }
        }
      ]
    },
    {
      "cell_type": "code",
      "metadata": {
        "id": "OnYG1O37HH-B"
      },
      "source": [
        "# Configure RF simulation\n",
        "Tp = 0.005 # Pulse duration, seconds\n",
        "gamma_b1_max = 222 # Pulse amplitude, Hz\n",
        "pulse_phase = 0 # A global phase to apply to pulse. Radians\n",
        "\n",
        "T1 = 1000.0 # s\n",
        "T2 = 1000.0 # s\n",
        "\n",
        "# Initial magnetization\n",
        "M0 = np.array([0, 0, 1.0])\n",
        "\n",
        "simulation_bw = 2000 # offresonance bandwidth to simulate\n",
        "offset_steps = 200 # number of offres values to simulate \n",
        "offsets = np.zeros(offset_steps+1)\n",
        "\n",
        "# Convert polar RF into cartesian components\n",
        "b1x = 2 * np.pi * gamma_b1_max * b1_amp * np.cos(pulse_phase + b1_phase)\n",
        "b1y = 2 * np.pi * gamma_b1_max * b1_amp * np.sin(pulse_phase + b1_phase)\n",
        "\n",
        "Mt = np.zeros([offset_steps+1,3])\n",
        "for idx in range(offset_steps+1):\n",
        "  offsets[idx] = simulation_bw * 2 * np.pi * (2*idx/offset_steps -1)\n",
        "  Mt[idx,:] = blochRK4_loop(b1x, b1y, Tp, offsets[idx], 1/T1, 1/T2, M0)\n",
        "\n"
      ],
      "execution_count": 61,
      "outputs": []
    },
    {
      "cell_type": "code",
      "metadata": {
        "colab": {
          "base_uri": "https://localhost:8080/",
          "height": 296
        },
        "id": "r2g7kZtkUvn6",
        "outputId": "51388c5c-5a41-4723-a69b-cccd91e479f1"
      },
      "source": [
        "# Plot the results\n",
        "Mxy = np.sqrt(Mt[:,0]**2 + Mt[:,1]**2)\n",
        "\n",
        "plt.subplot(2,1,1)\n",
        "plt.plot(offsets, Mxy)\n",
        "plt.xlabel('Off resonance (Hz)')\n",
        "plt.ylabel('|Mxy|')\n",
        "\n",
        "plt.subplot(2,1,2)\n",
        "plt.plot(offsets, Mt[:,2])\n",
        "plt.xlabel('Off resonance (Hz)')\n",
        "plt.ylabel('Mz')"
      ],
      "execution_count": 62,
      "outputs": [
        {
          "output_type": "execute_result",
          "data": {
            "text/plain": [
              "Text(0, 0.5, 'Mz')"
            ]
          },
          "metadata": {},
          "execution_count": 62
        },
        {
          "output_type": "display_data",
          "data": {
            "image/png": "[encoded data removed]",
            "text/plain": [
              "<Figure size 432x288 with 2 Axes>"
            ]
          },
          "metadata": {
            "needs_background": "light"
          }
        }
      ]
    }
  ]
}